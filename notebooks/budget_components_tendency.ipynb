{
 "cells": [
  {
   "cell_type": "code",
   "execution_count": 1,
   "metadata": {},
   "outputs": [
    {
     "name": "stderr",
     "output_type": "stream",
     "text": [
      "C:\\Users\\u300737\\AppData\\Local\\anaconda3\\lib\\site-packages\\paramiko\\transport.py:219: CryptographyDeprecationWarning: Blowfish has been deprecated\n",
      "  \"class\": algorithms.Blowfish,\n"
     ]
    }
   ],
   "source": [
    "#!/usr/bin/env python3\n",
    "# -*- coding: utf-8 -*-\n",
    "\"\"\"\n",
    "Created on 2023-05-12\n",
    "\n",
    "@author: u300737\n",
    "\"\"\"\n",
    "import os\n",
    "import sys\n",
    "\n",
    "import numpy as np\n",
    "import pandas as pd\n",
    "import xarray as xr\n",
    "\n",
    "start_path=os.getcwd()\n",
    "ac3_scripts_path=start_path+\"/../scripts/\"\n",
    "my_git_path=start_path+\"/../../\"\n",
    "major_work_path=my_git_path+\"/../Work/GIT_Repository/\"\n",
    "hamp_processing_path=my_git_path+\"/hamp_processing_python/\"\n",
    "\n",
    "synth_ar_path=my_git_path+\"/Synthetic_Airborne_Arctic_ARs/\"\n",
    "retrieval_src_path=my_git_path+\"/hamp_retrieval_haloac3/\"\n",
    "config_path=synth_ar_path+\"config/\"\n",
    "sys.path.insert(1,config_path)\n",
    "sys.path.insert(2,ac3_scripts_path)\n",
    "sys.path.insert(3,synth_ar_path+\"src/\")\n",
    "sys.path.insert(4,synth_ar_path+\"plotting/\")\n",
    "sys.path.insert(5,hamp_processing_path)\n",
    "sys.path.insert(6,hamp_processing_path+\"plotting/\")\n",
    "sys.path.insert(7,retrieval_src_path+\"src/\")\n",
    "sys.path.insert(8,start_path+\"/../plotting/\")\n",
    "import data_config\n",
    "###############################################################################\n",
    "import flightcampaign\n",
    "import moisturebudget as Budgets\n",
    "###############################################################################\n",
    "#Grid Data\n",
    "from reanalysis import ERA5,CARRA \n",
    "from ICON import ICON_NWP as ICON\n",
    "import gridonhalo as Grid_on_HALO\n",
    "###############################################################################\n",
    "#-----------------------------------------------------------------------------#\n",
    "import warnings\n",
    "warnings.filterwarnings(\"ignore\")\n",
    "\n",
    "class HiddenPrints:\n",
    "    def __enter__(self):\n",
    "        self._original_stdout = sys.stdout\n",
    "        sys.stdout = open(os.devnull, 'w')\n",
    "\n",
    "    def __exit__(self, exc_type, exc_val, exc_tb):\n",
    "        sys.stdout.close()\n",
    "        sys.stdout = self._original_stdout\n",
    "import Performance\n",
    "performance=Performance.performance()"
   ]
  },
  {
   "cell_type": "markdown",
   "metadata": {},
   "source": [
    "### Plotting routines"
   ]
  },
  {
   "cell_type": "code",
   "execution_count": 14,
   "metadata": {},
   "outputs": [],
   "source": [
    "import matplotlib\n",
    "import matplotlib.pyplot as plt\n",
    "import seaborn as sns\n",
    "matplotlib.rcParams.update({\"font.size\":16})\n",
    "\n",
    "def plot_component_tendency(d_IWV_dt,d_IWV_dt_uncertainty,\n",
    "                            adv_q_series,mass_div_series,\n",
    "                            adv_q_unc,mass_div_unc,\n",
    "                            #adv_q_series_min,adv_q_series_max,\n",
    "                            #mass_div_series_min,mass_div_series_max,\n",
    "                            sector_precip,Evap_Sectors,\n",
    "                            plot_path=os.getcwd()+\"/../plots/\",with_residuals=True,\n",
    "                            scalar_based_div=False):\n",
    "\n",
    "    budget_components_fig, (ax1, ax2) =plt.subplots(2,1,figsize=(12,9),gridspec_kw={'height_ratios': [0.5, 1]})\n",
    "    sns.boxplot(data=merged_halo_icon_ivt, x=\"Sector\", y=\"IVT\",ax=ax1,palette=[\"darkgreen\",\"seagreen\",\"teal\",\"lightseagreen\"],\n",
    "               width=0.4)\n",
    "    ax1.set_xlabel(\" \")\n",
    "    ax1.set_ylabel(\"IVT ($\\mathrm{kg\\,m}^{-1}{\\mathrm{s}}^{-1})$\")\n",
    "    # Local change IWV\n",
    "    ax2.errorbar([0.8,1.8,2.8,3.8],d_IWV_dt_hamp.values,yerr=d_IWV_dt_uncertainty, marker='v', mfc='grey',\n",
    "             mec='black', ecolor=\"lightgrey\",ms=20, mew=1,ls=\"\",label=\"IWV tendency\")\n",
    "    # Evaporation\n",
    "    ax2.errorbar([0.9,1.9,2.9,3.9], -1*Evap_Sectors[\"mean\"].values, yerr=Evap_Sectors[\"std\"].values, marker='s', mfc='red',\n",
    "             mec='black', ecolor=\"lightgrey\",ms=10, mew=1,ls=\"\",label=\"Evap\")\n",
    "    # Precipitation\n",
    "    ax2.errorbar([0.95,1.95,2.95,3.95],-1*sector_precip[\"rate\"].values,\n",
    "                 yerr=[(sector_precip[\"max_rate\"]-sector_precip[\"rate\"].values),\n",
    "                       (sector_precip[\"rate\"].values-sector_precip[\"min_rate\"].values)],marker=\"s\",\n",
    "                 # ---> think about direction and sign of errorbars\n",
    "                 ecolor=\"lightgrey\",mfc=\"lightblue\",\n",
    "                mec=\"black\",ms=10,mew=1,ls=\"\",label=\"-Precip\")\n",
    "    # Mass divergence\n",
    "    ax2.errorbar(np.array([1,2,3,4]),-mass_div_series,yerr=mass_div_unc,\n",
    "                 #yerr=[mass_div_series_max-mass_div_series,mass_div_series-mass_div_series_min],\n",
    "                 marker=\"s\",mfc=\"teal\",ls=\"\",ms=10,mew=1,markeredgecolor=\"k\",ecolor=\"lightgrey\",label=\"mass conv\")\n",
    "    \n",
    "    # Moisture Advection\n",
    "    ax2.errorbar(np.array([1.05,2.05,3.05,4.05]),-adv_q_series,yerr=adv_q_unc,\n",
    "                 #yerr=[adv_q_series_max-adv_q_series,adv_q_series-adv_q_series_min],\n",
    "                 marker=\"s\",ms=10,mew=1,\n",
    "                 mfc=\"darkgreen\",ls=\"\",markeredgecolor=\"k\",ecolor=\"lightgrey\",label=\"q Adv\")\n",
    "    #Residuals\n",
    "    if with_residuals:\n",
    "        ax2.errorbar(np.array([1.1,2.1,3.1,4.1]),residual_e,yerr=residual_e_unc,marker=\"x\",\n",
    "                     mfc=\"k\",mec=\"k\",ecolor=\"lightgrey\",ms=10,mew=1,ls=\"\",label=\"residual\")\n",
    "        \n",
    "    ##\n",
    "    ax2.axhline(y=0,ls=\"--\",lw=1,color=\"k\")\n",
    "    ax2.set_ylabel(\"Moisture Budget \\nContribution ($\\mathrm{mm\\,h}^{-1}$)\")\n",
    "    ax2.set_xticks([1,2,3,4])\n",
    "    ax2.set_xticklabels([\"S1\",\"S2\",\"S3\",\"S4\"])#\n",
    "    ax1.spines['left'].set_linewidth(2)\n",
    "    ax2.spines['left'].set_linewidth(2)\n",
    "\n",
    "    ax1.spines['bottom'].set_linewidth(2)\n",
    "    ax2.spines['bottom'].set_linewidth(2)\n",
    "    ax1.xaxis.set_tick_params(width=2,length=4)\n",
    "    ax1.yaxis.set_tick_params(width=2,length=4)\n",
    "    ax2.xaxis.set_tick_params(width=2,length=4)\n",
    "    ax2.yaxis.set_tick_params(width=2,length=4)\n",
    "    col_number=5\n",
    "    if with_residuals:\n",
    "        col_number+=1\n",
    "    legend=ax2.legend(loc=\"lower right\",ncol=col_number,frameon=True,fontsize=12)\n",
    "    frame = legend.get_frame()\n",
    "    frame.set_color('lightgrey')\n",
    "    frame.set_edgecolor('black')\n",
    "\n",
    "    import matplotlib.patches as mpatches\n",
    "    sns.despine(offset=10)\n",
    "    file_end=\".png\"\n",
    "    fig_name=\"HALO_Budget_components_tendency\"\n",
    "    if with_residuals:\n",
    "        fig_name+=\"_with_residuals\"\n",
    "    if scalar_based_div:\n",
    "        fig_name+=\"_scalar_based\"\n",
    "    fig_name+=file_end\n",
    "    budget_components_fig.savefig(plot_path+fig_name,dpi=300,bbox_inches=\"tight\")\n",
    "    print(\"Figure saved as:\",plot_path+fig_name)"
   ]
  },
  {
   "cell_type": "code",
   "execution_count": 4,
   "metadata": {},
   "outputs": [],
   "source": [
    "sectors=[\"S1\",\"S2\",\"S3\",\"S4\"]\n",
    "Evap_Sectors=pd.DataFrame(data=np.nan,columns=[\"mean\",\"std\"],index=sectors)\n",
    "Evap_Sectors[\"mean\"]=[0.002438,0.00275,-0.015,-0.0038]\n",
    "Evap_Sectors[\"std\"]=[0.006509,0.005,0.0083,0.0101]\n",
    "\n",
    "scalar_based_div=False\n",
    "warm_sonde_values={}\n",
    "\n",
    "# scalar-based divergence values\n",
    "if scalar_based_div:\n",
    "    warm_sonde_values[\"S1\"]={\n",
    "      'mass_div': -0.41276886889204784,\n",
    "      'mass_div_min': -0.7301260286358718,\n",
    "      'mass_div_max': -0.09541170914822367,\n",
    "      'q_ADV': -0.7907497132061316,\n",
    "      'q_ADV_min': -1.565287488594897,\n",
    "      'q_ADV_max': -0.016211937817365973}\n",
    "\n",
    "    warm_sonde_values[\"S2\"]={\n",
    "        'mass_div': -0.1882352622233449,\n",
    "        'mass_div_min': -0.6452538732851526,\n",
    "        'mass_div_max': 0.2687833488384628,\n",
    "        'q_ADV': -0.5474630545351018,\n",
    "        'q_ADV_min': -1.3557554102823333,\n",
    "        'q_ADV_max': 0.2608293012121298}\n",
    "\n",
    "    warm_sonde_values[\"S3\"]={\n",
    "         'mass_div': -0.22776075016667244,\n",
    "         'mass_div_min': -0.5096074494526325,\n",
    "         'mass_div_max': 0.05408594911928759,\n",
    "         'q_ADV': -0.7544264531963553,\n",
    "         'q_ADV_min': -1.3814041637839345,\n",
    "         'q_ADV_max': -0.12744874260877628}\n",
    "    #    'mass_div': -0.23570411496183644,\n",
    "    #    'mass_div_min': -0.602622062208785,\n",
    "    #    'mass_div_max': 0.13121383228511205,\n",
    "    #    'q_ADV': -0.7594541149453358,\n",
    "    #    'q_ADV_min': -1.497718568202485,\n",
    "    #    'q_ADV_max': -0.021189661688186773}\n",
    "\n",
    "    warm_sonde_values[\"S4\"]={\n",
    "        'mass_div': -0.41276886889204784,\n",
    "        'mass_div_min': 0.056,\n",
    "        'mass_div_max': -0.09541170914822367,\n",
    "        'q_ADV': -0.7907497132061316,\n",
    "        'q_ADV_min': -1.565287488594897,\n",
    "        'q_ADV_max': -0.016211937817365973}\n",
    "else:\n",
    "    # List of uncertainties\n",
    "    #---------------------------------\n",
    "    #S1\n",
    "    # UNC adv  0.09904659648151819\n",
    "    # UNC mass 0.0390540623580486\n",
    "    #---------------------------------\n",
    "    #S2\n",
    "    # UNC adv  0.12255051592378231\n",
    "    # UNC mass 0.05330051908475317\n",
    "    #---------------------------------\n",
    "    #---------------------------------\n",
    "    #S4\n",
    "    warm_sonde_values[\"S1\"]={\n",
    "      'mass_div': 0.320,\n",
    "      'mass_div_min': 0.056,\n",
    "      'mass_div_max': 0.323,\n",
    "      'mass_div_unc':0.05606615583661565,#0.0390540623580486,\n",
    "        'q_ADV': 0.162,\n",
    "      'q_ADV_min': -0.42,\n",
    "      'q_ADV_max': 0.74,\n",
    "      'q_ADV_unc':0.13915442129379024 #now 400 meter correlation length 0.09904659648151819,\n",
    "        }\n",
    "\n",
    "    warm_sonde_values[\"S2\"]={\n",
    "        'mass_div': 0.369,\n",
    "        'mass_div_min': -0.006,\n",
    "        'mass_div_max': 0.378,\n",
    "        'mass_div_unc': 0.07579105179504261,#0.0533,\n",
    "        'q_ADV': 0.309,\n",
    "        'q_ADV_min': -0.328,\n",
    "        'q_ADV_max': 0.946,\n",
    "        'q_ADV_unc': 0.1722415822353062,#0.12255051592378231\n",
    "        }\n",
    "    warm_sonde_values[\"S3\"]={\n",
    "         'mass_div': -0.01606136995913354,\n",
    "         'mass_div_min': -0.07745809018313218,\n",
    "         'mass_div_max': 0.14004981735327982,\n",
    "         'mass_div_unc': 0.09455006318149353,#0.06758506711408048,\n",
    "         'q_ADV': -0.4327365190866554,\n",
    "         'q_ADV_min': -1.0441686154792087,\n",
    "         'q_ADV_max': 0.1786,\n",
    "         'q_ADV_unc': 0.14011083522506143#0.1029587189598431\n",
    "    }\n",
    "    #UNC adv 0.2973193759560851\n",
    "    #UNC mass 0.08439010200621463\n",
    "    \n",
    "    warm_sonde_values[\"S4\"]={\n",
    "        'mass_div': -0.034578940690504,\n",
    "        'mass_div_min': -0.1419551986643343,\n",
    "        'mass_div_max': 0.1648389618742725,\n",
    "        'mass_div_unc': 0.10572761034063809,#0.08439010200621463,\n",
    "        'q_ADV': -0.1992739541087698,\n",
    "        'q_ADV_min': -1.3204634891704425,\n",
    "        'q_ADV_max': 0.9219155809529028,\n",
    "        'q_ADV_unc':0.38034635428879077#0.2973193759560851,\n",
    "    }\n",
    "# old values may 2023\n",
    "#d_IWV_dt_sonde=pd.Series(data=[-0.25,-0.34,0.05,np.nan],index=[\"S1\",\"S2\",\"S3\",\"S4\"]) \n",
    "#d_IWV_dt_hamp=pd.Series(data=[-0.49,-0.31,0.66,np.nan],index=[\"S1\",\"S2\",\"S3\",\"S4\"]) \n",
    "d_IWV_dt_sonde=pd.Series(data=[-0.25,-0.34,0.05,np.nan],index=[\"S1\",\"S2\",\"S3\",\"S4\"]) \n",
    "d_IWV_dt_hamp=pd.Series(data=[-0.72,-0.19,0.66,0.56],index=[\"S1\",\"S2\",\"S3\",\"S4\"]) \n",
    "d_IWV_dt_uncertainty=pd.Series(data=[0.21,0.23872126958677942,0.30,0.1],index=[\"S1\",\"S2\",\"S3\",\"S4\"])\n",
    "\n",
    "# third hamp value shifted due to not working F-BAND module\n",
    "flights=[\"RF05\",\"RF06\"]\n",
    "ars_of_day=[\"AR_entire_1\",\"AR_entire_2\"]"
   ]
  },
  {
   "cell_type": "code",
   "execution_count": 5,
   "metadata": {},
   "outputs": [
    {
     "name": "stdout",
     "output_type": "stream",
     "text": [
      "RF05_AR_entire_1_interpolated_HMP.csv  is already calculated and will be opened\n",
      "RF05_AR_entire_2_interpolated_HMP.csv  is already calculated and will be opened\n",
      "RF06_AR_entire_1_interpolated_HMP.csv  is already calculated and will be opened\n",
      "RF06_AR_entire_2_interpolated_HMP.csv  is already calculated and will be opened\n"
     ]
    }
   ],
   "source": [
    "campaign=\"HALO_AC3\"\n",
    "halo_icon_hmps={}\n",
    "halo_icon_ivts={}\n",
    "precip_rates={}\n",
    "flight_dates={\"RF05\":\"20220315\",\n",
    "              \"RF06\":\"20220316\"}\n",
    "s=0\n",
    "\n",
    "for flight in flights:\n",
    "    for ar_of_day in ars_of_day:\n",
    "        sector_to_plot=\"warm\"\n",
    "        from simplified_flight_leg_handling import simplified_run_grid_main\n",
    "        with HiddenPrints():\n",
    "            halo_era5,halo_df,cmpgn_cls,ERA5_on_HALO,radar,Dropsondes=\\\n",
    "            simplified_run_grid_main(flight=[flight],config_file_path=major_work_path,ar_of_day=ar_of_day)\n",
    "        # ICON File\n",
    "        icon_major_path=cmpgn_cls.campaign_path+\"/data/ICON_LEM_2KM/\"\n",
    "        hydrometeor_icon_path=cmpgn_cls.campaign_path+\"/data/ICON_LEM_2KM/\"\n",
    "        icon_resolution=2000 # units m\n",
    "        upsample_time=\"20min\"\n",
    "        date=flight_dates[flight]\n",
    "        interp_icon_hmp_file=flight+\"_\"+ar_of_day+\"_\"+\"interpolated_HMP.csv\"\n",
    "        interp_icon_ivt_file=flight+\"_\"+ar_of_day+\"_\"+\"ICON_Interpolated_IVT.csv\"\n",
    "        icon_var_list=ICON.lookup_ICON_AR_period_data(cmpgn_cls.name,[flight],ar_of_day,\n",
    "                                                 icon_resolution,\n",
    "                                                 hydrometeor_icon_path,\n",
    "                                                 synthetic=False)\n",
    "\n",
    "        ICON_on_HALO=Grid_on_HALO.ICON_on_HALO(\n",
    "        cmpgn_cls,icon_var_list,halo_df,[flight],date,\n",
    "        interpolated_hmp_file=interp_icon_hmp_file,\n",
    "        interpolated_hmc_file=None,ar_of_day=ar_of_day,\n",
    "        upsample_time=upsample_time,\n",
    "        synthetic_icon=False,\n",
    "        synthetic_flight=False)\n",
    "\n",
    "        hydrometeor_icon_path=hydrometeor_icon_path+flight+\"/\"\n",
    "        ICON_on_HALO.update_ICON_hydrometeor_data_path(hydrometeor_icon_path)\n",
    "        halo_icon_ivts[flight+\"_\"+ar_of_day]=pd.read_csv(hydrometeor_icon_path+interp_icon_ivt_file,index_col=0)\n",
    "        halo_icon_ivts[flight+\"_\"+ar_of_day][\"Sector\"]=sectors[s]\n",
    "        halo_icon_hmps[flight+\"_\"+ar_of_day]=ICON_on_HALO.load_interpolated_hmp()\n",
    "        halo_icon_hmps[flight+\"_\"+ar_of_day][\"Sector\"]=sectors[s]\n",
    "        # read precip rates########\n",
    "        rate_path =cmpgn_cls.campaign_path+\"/data/precip_rates/\"\n",
    "        rate_fname=sector_to_plot+\"_precip_\"+flight+\"_\"+ar_of_day+\".csv\"\n",
    "        precip_rates[flight+\"_\"+ar_of_day]=pd.read_csv(rate_path+rate_fname,index_col=0)\n",
    "        precip_rates[flight+\"_\"+ar_of_day][\"Sector\"]=s+1\n",
    "        if s==0:\n",
    "            merged_precipitation=precip_rates[flight+\"_\"+ar_of_day]\n",
    "        else:\n",
    "            merged_precipitation=pd.concat([merged_precipitation,precip_rates[flight+\"_\"+ar_of_day]])\n",
    "        \n",
    "        ############\n",
    "        s+=1\n",
    "merged_rates         = pd.concat(precip_rates.values())\n",
    "merged_halo_icon_hmp = pd.concat(halo_icon_hmps.values())\n",
    "merged_halo_icon_ivt = pd.concat(halo_icon_ivts.values())\n",
    "        "
   ]
  },
  {
   "cell_type": "code",
   "execution_count": 6,
   "metadata": {},
   "outputs": [],
   "source": [
    "#halo_era5[\"Interp_Precip\"].mean()"
   ]
  },
  {
   "cell_type": "code",
   "execution_count": 7,
   "metadata": {},
   "outputs": [],
   "source": [
    "merged_rates.index=pd.DatetimeIndex(merged_rates.index)\n",
    "merged_rates=merged_rates.resample(\"10s\").mean()"
   ]
  },
  {
   "cell_type": "code",
   "execution_count": 8,
   "metadata": {},
   "outputs": [],
   "source": [
    "merged_precipitation[\"min_rain\"]=merged_precipitation[[\"r_norris\",\"r_palmer\",\"r_chandra\"]].min(axis=1)\n",
    "merged_precipitation[\"max_rain\"]=merged_precipitation[[\"r_norris\",\"r_palmer\",\"r_chandra\"]].max(axis=1)\n",
    "merged_precipitation[\"min_snow\"]=merged_precipitation[[\"s_schoger\",\"s_matrosov\",\"s_heymsfield\"]].min(axis=1)\n",
    "merged_precipitation[\"max_snow\"]=merged_precipitation[[\"s_schoger\",\"s_matrosov\",\"s_heymsfield\"]].max(axis=1)\n",
    "merged_precipitation[\"min_rate\"]=merged_precipitation[\"min_rain\"]+merged_precipitation[\"min_snow\"]\n",
    "merged_precipitation[\"max_rate\"]=merged_precipitation[\"max_rain\"]+merged_precipitation[\"max_snow\"]"
   ]
  },
  {
   "cell_type": "code",
   "execution_count": 9,
   "metadata": {},
   "outputs": [
    {
     "data": {
      "text/plain": [
       "S1    0.032262\n",
       "S2    0.012351\n",
       "S3    0.030188\n",
       "S4    0.001876\n",
       "Name: rate, dtype: float64"
      ]
     },
     "execution_count": 9,
     "metadata": {},
     "output_type": "execute_result"
    }
   ],
   "source": [
    "sector_precip=merged_precipitation.groupby(\"Sector\").mean()\n",
    "sector_precip.index=sectors\n",
    "sector_precip[\"rate\"]"
   ]
  },
  {
   "cell_type": "code",
   "execution_count": 10,
   "metadata": {},
   "outputs": [
    {
     "data": {
      "text/plain": [
       "Sector\n",
       "1    127.016524\n",
       "2     56.135946\n",
       "3    112.237914\n",
       "4      3.680899\n",
       "Name: rate, dtype: float64"
      ]
     },
     "execution_count": 10,
     "metadata": {},
     "output_type": "execute_result"
    }
   ],
   "source": [
    "sum_sector_precip=merged_precipitation.groupby(\"Sector\").sum()\n",
    "sum_sector_precip[\"rate\"]"
   ]
  },
  {
   "cell_type": "code",
   "execution_count": 11,
   "metadata": {},
   "outputs": [
    {
     "data": {
      "text/plain": [
       "0    0.056066\n",
       "1    0.075791\n",
       "2    0.094550\n",
       "3    0.105728\n",
       "dtype: float64"
      ]
     },
     "execution_count": 11,
     "metadata": {},
     "output_type": "execute_result"
    }
   ],
   "source": [
    "adv_q_series        = pd.Series(data=[warm_sonde_values[sector]['q_ADV'] for sector in sectors],\n",
    "                             index=sectors)\n",
    "adv_q_series_min    = pd.Series(data=[warm_sonde_values[sector]['q_ADV_min'] for sector in sectors],\n",
    "                             index=sectors)\n",
    "adv_q_series_max    = pd.Series(data=[warm_sonde_values[sector]['q_ADV_max'] for sector in sectors],\n",
    "                             index=sectors)\n",
    "adv_q_unc           = pd.Series(data=[warm_sonde_values[sector]['q_ADV_unc'] for sector in sectors])\n",
    "mass_div_series     = pd.Series(data=[warm_sonde_values[sector]['mass_div'] for sector in sectors],\n",
    "                             index=sectors)\n",
    "mass_div_series_min = pd.Series(data=[warm_sonde_values[sector]['mass_div_min'] for sector in sectors],\n",
    "                             index=sectors)\n",
    "mass_div_series_max = pd.Series(data=[warm_sonde_values[sector]['mass_div_max'] for sector in sectors],\n",
    "                             index=sectors)\n",
    "mass_div_unc        = pd.Series(data=[warm_sonde_values[sector]['mass_div_unc'] for sector in sectors])\n",
    "mass_div_unc"
   ]
  },
  {
   "cell_type": "markdown",
   "metadata": {},
   "source": [
    "## Residual"
   ]
  },
  {
   "cell_type": "code",
   "execution_count": 12,
   "metadata": {},
   "outputs": [
    {
     "data": {
      "text/plain": [
       "S1    0.259792\n",
       "S2    0.304172\n",
       "S3    0.345512\n",
       "S4    0.407366\n",
       "dtype: float64"
      ]
     },
     "execution_count": 12,
     "metadata": {},
     "output_type": "execute_result"
    }
   ],
   "source": [
    "#d_IWV/dt=-nabla IVT + E - P + €\n",
    "# ->\n",
    "#€=d_IWV/dt+nabla IVT -E +P\n",
    "residual_e=d_IWV_dt_hamp+adv_q_series.values+mass_div_series.values-Evap_Sectors[\"mean\"]+sector_precip[\"rate\"].values\n",
    "residual_e_unc=np.sqrt(d_IWV_dt_uncertainty**2+\\\n",
    "                       mass_div_unc.values**2+\\\n",
    "                       adv_q_unc.values**2+\\\n",
    "                       #((mass_div_series_max-mass_div_series_min)/2)**2+\\\n",
    "                       #((adv_q_series_max-adv_q_series_min)/2)**2+\\\n",
    "                       ((sector_precip[\"max_rate\"]-sector_precip[\"min_rate\"])/2)**2+\\\n",
    "                       Evap_Sectors[\"std\"]**2)\n",
    "residual_e_unc"
   ]
  },
  {
   "cell_type": "code",
   "execution_count": 15,
   "metadata": {},
   "outputs": [
    {
     "name": "stdout",
     "output_type": "stream",
     "text": [
      "Figure saved as: C:\\Users\\u300737\\Desktop\\Desktop_alter_Rechner\\PhD_UHH_WIMI\\my_GIT\\HALO_AC3_AR_Budget_Closure\\notebooks/../plots/HALO_Budget_components_tendency_with_residuals.png\n"
     ]
    },
    {
     "data": {
      "image/png": "[encoded data removed]",
      "text/plain": [
       "<Figure size 1200x900 with 2 Axes>"
      ]
     },
     "metadata": {},
     "output_type": "display_data"
    }
   ],
   "source": [
    "plot_component_tendency(d_IWV_dt_hamp,d_IWV_dt_uncertainty,\n",
    "                            adv_q_series,mass_div_series,adv_q_unc,mass_div_unc,\n",
    "                            sector_precip,Evap_Sectors)"
   ]
  },
  {
   "cell_type": "code",
   "execution_count": null,
   "metadata": {},
   "outputs": [],
   "source": [
    "# Old stuff to be deleted\n",
    "#------------------------------------------------------------------------------------------------------------------------------#\n",
    "#Q ADV\n",
    "#ax2.errorbar(np.array([1,2,3,4])-0.15,\n",
    "#             -1*np.array([-0.7907497132061316,-0.5474630545351018,-0.7594541149453358,-0.41276886889204784]),\n",
    "#            yerr=[(-0.7301260286358718--0.09541170914822367)/2,\n",
    "#                  (-0.6452538732851526--0.2687833488384628)/2,\n",
    "#                  (-0.602622062208785-0.13121383228511205)/2,\n",
    "#                  (-0.7301260286358718-0.09541170914822367)/2],\n",
    "#            marker=\"^\",ms=15,markeredgecolor=\"k\",mfc=\"teal\",elinewidth=2,ecolor=\"teal\",ls=\"\",label=\"Q ADV\")\n",
    "#IWV tendency\n",
    "#ax2.scatter(np.array([1,2,3])+0.1,np.array([-0.25,-0.34,0.05]),\n",
    "#            marker=\"o\",s=200,edgecolor=\"k\",facecolor=\"grey\",label=\"IWV tendency \\n(Dropsondes)\")\n",
    "#ax2.scatter(np.array([1,2,3])+0.1,np.array([-0.49,-0.31,0.66]),\n",
    "#            marker=\"o\",s=75,edgecolor=\"k\",facecolor=\"lightgrey\",label=\"IWV tendency \\n(HAMP)\")\n"
   ]
  },
  {
   "cell_type": "code",
   "execution_count": null,
   "metadata": {},
   "outputs": [],
   "source": []
  },
  {
   "cell_type": "code",
   "execution_count": null,
   "metadata": {},
   "outputs": [],
   "source": []
  },
  {
   "cell_type": "code",
   "execution_count": null,
   "metadata": {},
   "outputs": [],
   "source": []
  }
 ],
 "metadata": {
  "kernelspec": {
   "display_name": "Python 3 (ipykernel)",
   "language": "python",
   "name": "python3"
  },
  "language_info": {
   "codemirror_mode": {
    "name": "ipython",
    "version": 3
   },
   "file_extension": ".py",
   "mimetype": "text/x-python",
   "name": "python",
   "nbconvert_exporter": "python",
   "pygments_lexer": "ipython3",
   "version": "3.10.9"
  }
 },
 "nbformat": 4,
 "nbformat_minor": 4
}
