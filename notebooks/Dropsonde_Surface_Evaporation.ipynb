{
 "cells": [
  {
   "cell_type": "markdown",
   "id": "ef494874",
   "metadata": {},
   "source": [
    "# Dropsonde Based Surface Evaporation per flight"
   ]
  },
  {
   "cell_type": "markdown",
   "id": "168b4003",
   "metadata": {},
   "source": [
    "This routine calculates the surface evaporation from the dropsondes over sea surface. The formula relies on Howland et al. (1983,https://doi.org/10.1175/1520-0493(1983)111<2255:TMBOTN>2.0.CO;2 )\n",
    "\n",
    "E=C_d*rho_a*(q_s-q_a)*v --> (actually this formula comes from Rao et al. (1981))\n",
    "\n",
    "C_d   : drag coefficient( 1.4e-3 for v< 13 m/s, 1.6e-3 for v>13m/s)\n",
    "rho_a : air density at sea level\n",
    "q_s   : saturation specific humidity\n",
    "q_a   : actual specific humidity"
   ]
  },
  {
   "cell_type": "markdown",
   "id": "392718a6",
   "metadata": {},
   "source": [
    "## Configuration"
   ]
  },
  {
   "cell_type": "code",
   "execution_count": null,
   "id": "f5bbf15f",
   "metadata": {},
   "outputs": [],
   "source": [
    "#!/usr/bin/env python3\n",
    "# -*- coding: utf-8 -*-\n",
    "\"\"\"\n",
    "Created on Mon Aug 24 16:35:51 2020\n",
    "\n",
    "@author: u300737\n",
    "\"\"\"\n",
    "import os\n",
    "import sys\n",
    "\n",
    "import numpy as np\n",
    "import pandas as pd\n",
    "import xarray as xr\n",
    "\n",
    "start_path=os.getcwd()\n",
    "ac3_scripts_path=start_path+\"/../scripts/\"\n",
    "my_git_path=start_path+\"/../../\"\n",
    "major_work_path=my_git_path+\"/../Work/GIT_Repository/\"\n",
    "hamp_processing_path=my_git_path+\"/hamp_processing_python/\"\n",
    "\n",
    "synth_ar_path=my_git_path+\"/Synthetic_Airborne_Arctic_ARs/\"\n",
    "retrieval_src_path=my_git_path+\"/hamp_retrieval_haloac3/\"\n",
    "config_path=synth_ar_path+\"config/\"\n",
    "sys.path.insert(1,config_path)\n",
    "sys.path.insert(2,ac3_scripts_path)\n",
    "sys.path.insert(3,synth_ar_path+\"src/\")\n",
    "sys.path.insert(4,synth_ar_path+\"plotting/\")\n",
    "sys.path.insert(5,hamp_processing_path)\n",
    "sys.path.insert(6,hamp_processing_path+\"plotting/\")\n",
    "sys.path.insert(7,retrieval_src_path+\"src/\")\n",
    "sys.path.insert(8,start_path+\"/../plotting/\")\n",
    "import data_config\n",
    "###############################################################################\n",
    "import flightcampaign\n",
    "import moisturebudget as Budgets\n",
    "###############################################################################\n",
    "#Grid Data\n",
    "from reanalysis import ERA5,CARRA \n",
    "from ICON import ICON_NWP as ICON\n",
    "import gridonhalo as Grid_on_HALO\n",
    "###############################################################################\n",
    "from simplified_flight_leg_handling import simplified_run_grid_main\n",
    "#-----------------------------------------------------------------------------#\n",
    "import warnings\n",
    "warnings.filterwarnings(\"ignore\")\n",
    "\n",
    "class HiddenPrints:\n",
    "    def __enter__(self):\n",
    "        self._original_stdout = sys.stdout\n",
    "        sys.stdout = open(os.devnull, 'w')\n",
    "\n",
    "    def __exit__(self, exc_type, exc_val, exc_tb):\n",
    "        sys.stdout.close()\n",
    "        sys.stdout = self._original_stdout\n",
    "import Performance\n",
    "performance=Performance.performance()"
   ]
  },
  {
   "cell_type": "markdown",
   "id": "838eb305",
   "metadata": {},
   "source": [
    "### Predefinitions"
   ]
  },
  {
   "cell_type": "code",
   "execution_count": null,
   "id": "0c2c7da8",
   "metadata": {},
   "outputs": [],
   "source": [
    "campaign=\"HALO_AC3\"\n",
    "ar_of_day=\"AR_entire_2\"\n",
    "calibrated_hamp=True\n",
    "flight=[\"RF06\"]\n",
    "flight_dates={\"RF05\":\"20220315\",\n",
    "              \"RF06\":\"20220316\"}\n",
    "sector_to_plot=\"warm\"\n",
    "\n",
    "scalar_based_div=False\n",
    "take_arbitary=False\n",
    "do_plotting=True\n",
    "plot_path=start_path+\"/../plots/\"\n",
    "if not os.path.exists(plot_path):\n",
    "    os.makedirs(plot_path)\n"
   ]
  },
  {
   "cell_type": "markdown",
   "id": "cd7dbd0c",
   "metadata": {},
   "source": [
    "## Prepare Dropsonde Data"
   ]
  },
  {
   "cell_type": "code",
   "execution_count": null,
   "id": "0dc0692e",
   "metadata": {},
   "outputs": [],
   "source": [
    "\"\"\"\n",
    "###############################################################################\n",
    "    Main Script for running interpolation of griddata on flight path\n",
    "###############################################################################\n",
    "\"\"\"\n",
    "with HiddenPrints():\n",
    "    halo_era5,halo_df,cmpgn_cls,ERA5_on_HALO,radar,Dropsondes=\\\n",
    "        simplified_run_grid_main(flight=flight,config_file_path=major_work_path,ar_of_day=ar_of_day)\n",
    "if not \"Lat\" in [*Dropsondes.keys()]:\n",
    "    sondes_lon=[[*Dropsondes[\"reference_lon\"].values()][sonde].data[0] \\\n",
    "                    for sonde in range(Dropsondes[\"IWV\"].shape[0])]\n",
    "                    \n",
    "    sondes_lat=[[*Dropsondes[\"reference_lat\"].values()][sonde].data[0]\\\n",
    "                    for sonde in range(Dropsondes[\"IWV\"].shape[0])]\n",
    "    Dropsondes[\"Lat\"]=pd.Series(data=np.array(sondes_lat),\n",
    "                                                index=Dropsondes[\"IWV\"].index)\n",
    "    Dropsondes[\"Lon\"]=pd.Series(data=np.array(sondes_lon),\n",
    "                                                index=Dropsondes[\"IWV\"].index)\n",
    "sonde_times_series=pd.Series(index=Dropsondes[\"IWV\"].index.values,data=range(Dropsondes[\"IWV\"].shape[0]))"
   ]
  },
  {
   "cell_type": "code",
   "execution_count": 1,
   "id": "2aed3e63",
   "metadata": {},
   "outputs": [
    {
     "ename": "NameError",
     "evalue": "name 'Dropsondes' is not defined",
     "output_type": "error",
     "traceback": [
      "\u001b[1;31m---------------------------------------------------------------------------\u001b[0m",
      "\u001b[1;31mNameError\u001b[0m                                 Traceback (most recent call last)",
      "Cell \u001b[1;32mIn[1], line 1\u001b[0m\n\u001b[1;32m----> 1\u001b[0m [\u001b[38;5;241m*\u001b[39m\u001b[43mDropsondes\u001b[49m\u001b[38;5;241m.\u001b[39mkeys()]\n",
      "\u001b[1;31mNameError\u001b[0m: name 'Dropsondes' is not defined"
     ]
    }
   ],
   "source": [
    "[*Dropsondes.keys()]"
   ]
  },
  {
   "cell_type": "code",
   "execution_count": null,
   "id": "da9db7f2",
   "metadata": {},
   "outputs": [],
   "source": []
  }
 ],
 "metadata": {
  "kernelspec": {
   "display_name": "Python 3 (ipykernel)",
   "language": "python",
   "name": "python3"
  },
  "language_info": {
   "codemirror_mode": {
    "name": "ipython",
    "version": 3
   },
   "file_extension": ".py",
   "mimetype": "text/x-python",
   "name": "python",
   "nbconvert_exporter": "python",
   "pygments_lexer": "ipython3",
   "version": "3.10.9"
  }
 },
 "nbformat": 4,
 "nbformat_minor": 5
}
